{
 "cells": [
  {
   "cell_type": "markdown",
   "id": "625d67d0-4372-4a69-8a70-993352fc3e53",
   "metadata": {},
   "source": [
    "---\n",
    "title: Think about the flow\n",
    "jupyter:\n",
    "  jupytext:\n",
    "    text_representation:\n",
    "      extension: .qmd\n",
    "      format_name: quarto\n",
    "      format_version: '1.0'\n",
    "      jupytext_version: 1.16.2\n",
    "  kernelspec:\n",
    "    display_name: Python 3 (ipykernel)\n",
    "    language: python\n",
    "    name: python3\n",
    "---\n",
    "\n",
    "1. Make API calls onto 2024\n",
    "1. Include date of data insert into API data\n",
    "1. Insert 2024 data where date of data insert == today into MongoDB\n",
    "1. Delete 2024 data where date of data insert != today\n",
    "\n",
    "**Lets see if I can shift this into polars? Cos I may be dealing with a very large dataset**\n"
   ]
  },
  {
   "cell_type": "code",
   "execution_count": 2,
   "id": "67ce487b-e588-4486-87cf-bbd495bbd26b",
   "metadata": {
    "tags": []
   },
   "outputs": [],
   "source": [
    "import os\n",
    "import json\n",
    "import requests\n",
    "import numpy as np\n",
    "import pandas as pd\n",
    "from datetime import datetime, timedelta\n",
    "from tqdm.notebook import tqdm\n",
    "import plotly.graph_objects as go"
   ]
  },
  {
   "cell_type": "markdown",
   "id": "15166f9f-cd74-4f72-be38-eb58aa2c2e4b",
   "metadata": {},
   "source": [
    "### Calculate 6 months before period "
   ]
  },
  {
   "cell_type": "code",
   "execution_count": 20,
   "id": "e821c59c-3e1c-452d-b76f-9ff37109a6c4",
   "metadata": {
    "tags": []
   },
   "outputs": [
    {
     "data": {
      "text/plain": [
       "Index(['month', 'town', 'flat', 'block', 'street_name', 'storey_range', 'area',\n",
       "       'lease_left_mths', 'price'],\n",
       "      dtype='object')"
      ]
     },
     "execution_count": 20,
     "metadata": {},
     "output_type": "execute_result"
    }
   ],
   "source": [
    "latest_df.columns"
   ]
  },
  {
   "cell_type": "code",
   "execution_count": 18,
   "id": "b52952ed-7921-4bd3-945a-7c86168b1f7b",
   "metadata": {
    "tags": []
   },
   "outputs": [],
   "source": [
    "current_mth = datetime.now().date().strftime(\"%Y-%m\")\n",
    "total_periods = [str(i)[:7] for i in pd.date_range(\n",
    "    \"2023-01-01\", current_mth + \"-01\", freq='MS').tolist()]\n",
    "recent_periods = total_periods[-6:]\n",
    "\n",
    "df_cols = ['month', 'town', 'flat_type', 'block', 'street_name', 'storey_range', 'floor_area_sqm', 'remaining_lease', 'resale_price']\n",
    "param_fields = \",\".join(df_cols)\n",
    "base_url = \"https://data.gov.sg/api/action/datastore_search?resource_id=\"\n",
    "ext_url = \"d_8b84c4ee58e3cfc0ece0d773c8ca6abc\"\n",
    "full_url = base_url + ext_url\n",
    "\n",
    "recent_df = pd.DataFrame()\n",
    "for period in tqdm(recent_periods):    \n",
    "    params = {\n",
    "        \"fields\": param_fields,\n",
    "        \"filters\": json.dumps({'month': period}),\n",
    "        \"limit\": 10000\n",
    "    }\n",
    "    response = requests.get(full_url, params=params)\n",
    "    mth_df = pd.DataFrame(response.json().get(\"result\").get(\"records\"))\n",
    "    recent_df = pd.concat([recent_df, mth_df], axis=0)\n",
    "\n",
    "latest_df = recent_df.copy()\n",
    "latest_df.columns = ['month', 'town', 'flat', 'block', 'street_name', 'storey_range', 'area', 'lease_left', 'price']\n",
    "latest_df['lease_left'] = [i.replace('s', '') for i in latest_df['lease_left']]\n",
    "latest_df['lease_left'] = [i.replace(' year', 'y') for i in latest_df['lease_left']]\n",
    "latest_df['lease_left'] = [i.replace(' month', 'm') for i in latest_df['lease_left']]\n",
    "latest_df['lease_left_yrs'] = [int(i[0])*12 for i in latest_df['lease_left'].str.split(\"y\")]\n",
    "latest_df['lease_left_mths'] = [0 if i[-1].strip().replace('m', '') == '' else int(i[-1].strip().replace('m', '')) for i in latest_df['lease_left'].str.split(\"y\")]\n",
    "latest_df['total_lease_left_mths'] = latest_df['lease_left_yrs'] + latest_df['lease_left_mths']\n",
    "del latest_df['lease_left']\n",
    "del latest_df['lease_left_yrs']\n",
    "del latest_df['lease_left_mths']\n",
    "latest_df.rename(columns={'total_lease_left_mths':'lease_left_mths'}, inplace=True)\n",
    "\n",
    "latest_df['storey_range'] = [i.replace(' TO ', '-') for i in latest_df['storey_range']]\n",
    "latest_df['flat'] = [i.replace(\" ROOM\", \"R\") for i in latest_df['flat']]\n",
    "latest_df['flat'] = [i.replace(\"EXECUTIVE\", \"EC\") for i in latest_df['flat']]\n",
    "latest_df['flat'] = [i.replace(\"MULTI-GENERATION\", \"MG\") for i in latest_df['flat']]\n",
    "\n",
    "latest_df['flat'] = latest_df['flat'].astype(str)\n",
    "latest_df['lease_left_mths'] = latest_df['lease_left_mths'].astype(np.int32)\n",
    "latest_df['area'] = latest_df['area'].astype(np.float16)\n",
    "latest_df['price'] = latest_df['price'].astype(np.float32)\n",
    "\n",
    "latest_df = latest_df[['month', 'town', 'flat', 'block', 'street_name', 'storey_range', 'area', 'lease_left_mths', 'price']]"
   ]
  },
  {
   "cell_type": "markdown",
   "id": "ce37fb45-0611-4406-a2f4-9c0c09d38e1d",
   "metadata": {},
   "source": [
    "### One Time set of API calls and data dump into MongoDB\n",
    "#### Time parameters "
   ]
  },
  {
   "cell_type": "code",
   "execution_count": 122,
   "id": "9a7d6076-8543-432d-8fc7-5ece4caca0cd",
   "metadata": {
    "tags": []
   },
   "outputs": [],
   "source": [
    "current_mth = datetime.now().date().strftime(\"%Y-%m\")\n",
    "total_periods = [str(i)[:7] for i in pd.date_range(\n",
    "    \"2014-01-01\", current_mth+\"-01\", freq='MS').tolist()]"
   ]
  },
  {
   "cell_type": "code",
   "execution_count": 123,
   "id": "95fab16e-e2cb-4643-8e1f-2c4e596fa4e2",
   "metadata": {
    "tags": []
   },
   "outputs": [
    {
     "data": {
      "application/vnd.jupyter.widget-view+json": {
       "model_id": "fe6ebb432b3c4996a7c9d9046f17b3f5",
       "version_major": 2,
       "version_minor": 0
      },
      "text/plain": [
       "  0%|          | 0/127 [00:00<?, ?it/s]"
      ]
     },
     "metadata": {},
     "output_type": "display_data"
    },
    {
     "name": "stdout",
     "output_type": "stream",
     "text": [
      "2014-01\n",
      "2014-02\n",
      "2014-03\n",
      "2014-04\n",
      "2014-05\n",
      "2014-06\n",
      "2014-07\n",
      "2014-08\n",
      "2014-09\n",
      "2014-10\n",
      "2014-11\n",
      "2014-12\n"
     ]
    }
   ],
   "source": [
    "# df_cols = ['month', 'town', 'floor_area_sqm',\n",
    "#            'flat_type', 'lease_commence_date', 'resale_price']\n",
    "\n",
    "# Focus on most minimium cols for speed\n",
    "df_cols = ['month', 'town', 'resale_price']\n",
    "param_fields = \",\".join(df_cols)\n",
    "base_url = \"https://data.gov.sg/api/action/datastore_search?resource_id=\"\n",
    "latest_df = pd.DataFrame()\n",
    "\n",
    "for period in tqdm(total_periods):\n",
    "    if \"2014-\" in period:\n",
    "        print(period)\n",
    "        url = base_url + \"d_2d5ff9ea31397b66239f245f57751537\"\n",
    "    elif \"2015-\" in period or \"2016-\" in period:\n",
    "        url = base_url + \"d_ea9ed51da2787afaf8e51f827c304208\"\n",
    "    else:\n",
    "        url = base_url + \"d_8b84c4ee58e3cfc0ece0d773c8ca6abc\"\n",
    "    \n",
    "    params = {\n",
    "        \"fields\": param_fields,\n",
    "        \"filters\": json.dumps({'month': period}),\n",
    "        \"limit\": 10000\n",
    "    }\n",
    "    response = requests.get(url, params=params)\n",
    "    mth_df = pd.DataFrame(response.json().get(\"result\").get(\"records\"))\n",
    "    latest_df = pd.concat([latest_df, mth_df], axis=0)"
   ]
  },
  {
   "cell_type": "markdown",
   "id": "acb7c61c-6773-4859-8327-7a252ac3442b",
   "metadata": {},
   "source": [
    "### Updating just certain periods "
   ]
  },
  {
   "cell_type": "code",
   "execution_count": 8,
   "id": "ff6a2a18-4543-4ae3-afc0-2c430349771a",
   "metadata": {
    "tags": []
   },
   "outputs": [
    {
     "data": {
      "application/vnd.jupyter.widget-view+json": {
       "model_id": "9d84dc1ab8074d70885e224f3578b822",
       "version_major": 2,
       "version_minor": 0
      },
      "text/plain": [
       "  0%|          | 0/7 [00:00<?, ?it/s]"
      ]
     },
     "metadata": {},
     "output_type": "display_data"
    }
   ],
   "source": [
    "latest_df = pd.DataFrame()\n",
    "\n",
    "df_cols = [\"month\", \"town\", \"flat_type\", \"block\", \"street_name\", \"storey_range\", \"floor_area_sqm\", \"remaining_lease\", \"resale_price\"]\n",
    "today = datetime.now().date()\n",
    "mth_first_d = today.replace(day=1)\n",
    "last_mth = mth_first_d - timedelta(days=1)\n",
    "last_mth, current_mth = last_mth.strftime(\"%Y-%m\"), today.strftime(\"%Y-%m\")\n",
    "\n",
    "# All months\n",
    "mths_2024_onwards = [str(i)[:7] for i in pd.date_range(\n",
    "    \"2024-01-01\", current_mth + \"-01\", freq='MS').tolist()]\n",
    "\n",
    "# Update recent two months\n",
    "update_mths = [last_mth, current_mth]\n",
    "\n",
    "param_fields = \",\".join(df_cols)\n",
    "basic_df = pd.DataFrame()\n",
    "\n",
    "y2024 = \"d_8b84c4ee58e3cfc0ece0d773c8ca6abc\"\n",
    "base_url = \"https://data.gov.sg/api/action/datastore_search?resource_id=\"\n",
    "url = base_url + y2024\n",
    "\n",
    "for mth in tqdm(mths_2024_onwards):\n",
    "    params = {\n",
    "        \"fields\": param_fields,\n",
    "        \"filters\": json.dumps({'month': mth}),\n",
    "        \"limit\": 10000\n",
    "    }\n",
    "    response = requests.get(url, params=params)\n",
    "    mth_df = pd.DataFrame(response.json().get(\"result\").get(\"records\"))   \n",
    "    latest_df = pd.concat([latest_df, mth_df], axis=0)"
   ]
  },
  {
   "cell_type": "markdown",
   "id": "ed1dbe80-0c18-4bfb-83ae-e01a9b041bdf",
   "metadata": {},
   "source": [
    "#### Past data "
   ]
  },
  {
   "cell_type": "code",
   "execution_count": 105,
   "id": "ef0acebe-02c5-4d3a-bbbe-63507bfc03c4",
   "metadata": {
    "tags": []
   },
   "outputs": [],
   "source": [
    "latest_df = basic_df.copy()\n",
    "latest_df = latest_df[['month', 'town', 'flat_type', 'block', 'street_name', 'storey_range', \n",
    "                       'floor_area_sqm', 'remaining_lease', 'resale_price', 'insert_date']]\n",
    "\n",
    "latest_df.columns = ['month', 'town', 'flat', 'block', 'street_name', 'storey_range', 'area', 'lease_left', 'price', \"insert_date\"]\n",
    "# latest_df['month'] = pd.to_datetime(latest_df['month'])\n",
    "latest_df['lease_left'] = [i.replace('s', '') for i in latest_df['lease_left']]\n",
    "latest_df['lease_left'] = [i.replace(' year', 'y') for i in latest_df['lease_left']]\n",
    "latest_df['lease_left'] = [i.replace(' month', 'm') for i in latest_df['lease_left']]\n",
    "latest_df['lease_left_yrs'] = [int(i[0])*12 for i in latest_df['lease_left'].str.split(\"y\")]\n",
    "latest_df['lease_left_mths'] = [0 if i[-1].strip().replace('m', '') == '' else int(i[-1].strip().replace('m', '')) for i in latest_df['lease_left'].str.split(\"y\")]\n",
    "latest_df['total_lease_left_mths'] = latest_df['lease_left_yrs'] + latest_df['lease_left_mths']\n",
    "del latest_df['lease_left']\n",
    "del latest_df['lease_left_yrs']\n",
    "del latest_df['lease_left_mths']\n",
    "latest_df.rename(columns={'total_lease_left_mths':'lease_left_mths'}, inplace=True)\n",
    "\n",
    "latest_df['storey_range'] = [i.replace(' TO ', '-') for i in latest_df['storey_range']]\n",
    "latest_df['flat'] = [i.replace(\" ROOM\", \"R\") for i in latest_df['flat']]\n",
    "latest_df['flat'] = [i.replace(\"EXECUTIVE\", \"EC\") for i in latest_df['flat']]\n",
    "latest_df['flat'] = [i.replace(\"MULTI-GENERATION\", \"MG\") for i in latest_df['flat']]\n",
    "\n",
    "latest_df['flat'] = latest_df['flat'].astype(str)\n",
    "latest_df['insert_date'] = latest_df['insert_date'].astype(str)\n",
    "latest_df['lease_left_mths'] = latest_df['lease_left_mths'].astype(np.int32)\n",
    "latest_df['area'] = latest_df['area'].astype(np.float16)\n",
    "latest_df['price'] = latest_df['price'].astype(np.float32)\n",
    "\n",
    "latest_df = latest_df[['month', 'town', 'flat', 'block', 'street_name', 'storey_range', \n",
    "                       'area', 'lease_left_mths', 'price', 'insert_date']]"
   ]
  },
  {
   "cell_type": "code",
   "execution_count": 106,
   "id": "27d3e038-3498-4231-a5e7-6e5151d4a316",
   "metadata": {
    "tags": []
   },
   "outputs": [
    {
     "data": {
      "text/html": [
       "<div>\n",
       "<style scoped>\n",
       "    .dataframe tbody tr th:only-of-type {\n",
       "        vertical-align: middle;\n",
       "    }\n",
       "\n",
       "    .dataframe tbody tr th {\n",
       "        vertical-align: top;\n",
       "    }\n",
       "\n",
       "    .dataframe thead th {\n",
       "        text-align: right;\n",
       "    }\n",
       "</style>\n",
       "<table border=\"1\" class=\"dataframe\">\n",
       "  <thead>\n",
       "    <tr style=\"text-align: right;\">\n",
       "      <th></th>\n",
       "      <th>month</th>\n",
       "      <th>town</th>\n",
       "      <th>flat</th>\n",
       "      <th>block</th>\n",
       "      <th>street_name</th>\n",
       "      <th>storey_range</th>\n",
       "      <th>area</th>\n",
       "      <th>lease_left_mths</th>\n",
       "      <th>price</th>\n",
       "      <th>insert_date</th>\n",
       "    </tr>\n",
       "  </thead>\n",
       "  <tbody>\n",
       "    <tr>\n",
       "      <th>0</th>\n",
       "      <td>2020-01</td>\n",
       "      <td>ANG MO KIO</td>\n",
       "      <td>3R</td>\n",
       "      <td>208</td>\n",
       "      <td>ANG MO KIO AVE 1</td>\n",
       "      <td>04-06</td>\n",
       "      <td>73.0</td>\n",
       "      <td>667</td>\n",
       "      <td>265000.0</td>\n",
       "      <td>2024-07-18</td>\n",
       "    </tr>\n",
       "    <tr>\n",
       "      <th>1</th>\n",
       "      <td>2020-01</td>\n",
       "      <td>ANG MO KIO</td>\n",
       "      <td>3R</td>\n",
       "      <td>307C</td>\n",
       "      <td>ANG MO KIO AVE 1</td>\n",
       "      <td>19-21</td>\n",
       "      <td>70.0</td>\n",
       "      <td>1100</td>\n",
       "      <td>470000.0</td>\n",
       "      <td>2024-07-18</td>\n",
       "    </tr>\n",
       "    <tr>\n",
       "      <th>2</th>\n",
       "      <td>2020-01</td>\n",
       "      <td>ANG MO KIO</td>\n",
       "      <td>3R</td>\n",
       "      <td>319</td>\n",
       "      <td>ANG MO KIO AVE 1</td>\n",
       "      <td>01-03</td>\n",
       "      <td>73.0</td>\n",
       "      <td>676</td>\n",
       "      <td>230000.0</td>\n",
       "      <td>2024-07-18</td>\n",
       "    </tr>\n",
       "    <tr>\n",
       "      <th>3</th>\n",
       "      <td>2020-01</td>\n",
       "      <td>ANG MO KIO</td>\n",
       "      <td>3R</td>\n",
       "      <td>216</td>\n",
       "      <td>ANG MO KIO AVE 1</td>\n",
       "      <td>04-06</td>\n",
       "      <td>73.0</td>\n",
       "      <td>663</td>\n",
       "      <td>280000.0</td>\n",
       "      <td>2024-07-18</td>\n",
       "    </tr>\n",
       "    <tr>\n",
       "      <th>4</th>\n",
       "      <td>2020-01</td>\n",
       "      <td>ANG MO KIO</td>\n",
       "      <td>3R</td>\n",
       "      <td>556</td>\n",
       "      <td>ANG MO KIO AVE 10</td>\n",
       "      <td>07-09</td>\n",
       "      <td>68.0</td>\n",
       "      <td>709</td>\n",
       "      <td>220000.0</td>\n",
       "      <td>2024-07-18</td>\n",
       "    </tr>\n",
       "  </tbody>\n",
       "</table>\n",
       "</div>"
      ],
      "text/plain": [
       "     month        town flat block        street_name storey_range  area  \\\n",
       "0  2020-01  ANG MO KIO   3R   208   ANG MO KIO AVE 1        04-06  73.0   \n",
       "1  2020-01  ANG MO KIO   3R  307C   ANG MO KIO AVE 1        19-21  70.0   \n",
       "2  2020-01  ANG MO KIO   3R   319   ANG MO KIO AVE 1        01-03  73.0   \n",
       "3  2020-01  ANG MO KIO   3R   216   ANG MO KIO AVE 1        04-06  73.0   \n",
       "4  2020-01  ANG MO KIO   3R   556  ANG MO KIO AVE 10        07-09  68.0   \n",
       "\n",
       "   lease_left_mths     price insert_date  \n",
       "0              667  265000.0  2024-07-18  \n",
       "1             1100  470000.0  2024-07-18  \n",
       "2              676  230000.0  2024-07-18  \n",
       "3              663  280000.0  2024-07-18  \n",
       "4              709  220000.0  2024-07-18  "
      ]
     },
     "execution_count": 106,
     "metadata": {},
     "output_type": "execute_result"
    }
   ],
   "source": [
    "latest_df.head()"
   ]
  },
  {
   "cell_type": "markdown",
   "id": "ece7a329-179c-4f9a-8f1d-b921a740cc20",
   "metadata": {},
   "source": [
    "#### MongoDB Upload "
   ]
  },
  {
   "cell_type": "code",
   "execution_count": 131,
   "id": "2fb5d9af-2069-4761-89da-2ec57519d6b6",
   "metadata": {
    "tags": []
   },
   "outputs": [
    {
     "data": {
      "text/plain": [
       "['nlb', 'admin', 'local']"
      ]
     },
     "execution_count": 131,
     "metadata": {},
     "output_type": "execute_result"
    }
   ],
   "source": [
    "from pymongo import mongo_client\n",
    "from typing import Dict, List\n",
    "from datetime import datetime\n",
    "import time\n",
    "import os\n",
    "\n",
    "# MongoDB credentials\n",
    "MONGO_PASSWORD = os.environ[\"mongo_pw\"]\n",
    "base_url = \"mongodb+srv://cliffchew84:\"\n",
    "end_url = \"cliff-nlb.t0whddv.mongodb.net/?retryWrites=true&w=majority\"\n",
    "mongo_url = f\"{base_url}{MONGO_PASSWORD}@{end_url}\"\n",
    "\n",
    "def connect_mdb():\n",
    "    return mongo_client.MongoClient(mongo_url, serverSelectionTimeoutMS=5000)\n",
    "\n",
    "db = connect_mdb()\n",
    "db.list_database_names()"
   ]
  },
  {
   "cell_type": "code",
   "execution_count": 132,
   "id": "c58a01f4-80a5-4781-9326-8280bf771b75",
   "metadata": {},
   "outputs": [
    {
     "data": {
      "text/plain": [
       "['users',\n",
       " 'user_status',\n",
       " 'user_books',\n",
       " 'user_search',\n",
       " 'books_avail',\n",
       " 'books_info',\n",
       " 'p_att',\n",
       " 'p_mrt']"
      ]
     },
     "execution_count": 132,
     "metadata": {},
     "output_type": "execute_result"
    }
   ],
   "source": [
    "# Checking DB\n",
    "db_nlb = db['nlb']\n",
    "\n",
    "# Check the collections inside the BD\n",
    "db_nlb.list_collection_names()"
   ]
  },
  {
   "cell_type": "markdown",
   "id": "074b196e-0dc9-48c6-8274-10247177dfe1",
   "metadata": {},
   "source": [
    "#### Dump HDB data into MongoDB "
   ]
  },
  {
   "cell_type": "code",
   "execution_count": 136,
   "id": "2b791ef5-3118-48a0-ae5b-66ffd49c1b45",
   "metadata": {},
   "outputs": [
    {
     "data": {
      "text/plain": [
       "<pymongo.results.InsertManyResult at 0x14a5a2af0>"
      ]
     },
     "execution_count": 136,
     "metadata": {},
     "output_type": "execute_result"
    }
   ],
   "source": [
    "hdb_hist = db_nlb['hdb_latest']\n",
    "\n",
    "# Convert DataFrame to dictionary\n",
    "data_dict = latest_df.to_dict(\"records\")\n",
    "\n",
    "# Insert data into MongoDB\n",
    "hdb_hist.insert_many(data_dict)"
   ]
  },
  {
   "cell_type": "markdown",
   "id": "6c00a9fd-a6d1-46d3-aa2e-4495312b1df8",
   "metadata": {},
   "source": [
    "#### Test query from MongoDB "
   ]
  },
  {
   "cell_type": "code",
   "execution_count": 111,
   "id": "c3c3f3cd-ff94-417b-8a81-5de3e75adfa1",
   "metadata": {
    "tags": []
   },
   "outputs": [
    {
     "data": {
      "text/html": [
       "<div>\n",
       "<style scoped>\n",
       "    .dataframe tbody tr th:only-of-type {\n",
       "        vertical-align: middle;\n",
       "    }\n",
       "\n",
       "    .dataframe tbody tr th {\n",
       "        vertical-align: top;\n",
       "    }\n",
       "\n",
       "    .dataframe thead th {\n",
       "        text-align: right;\n",
       "    }\n",
       "</style>\n",
       "<table border=\"1\" class=\"dataframe\">\n",
       "  <thead>\n",
       "    <tr style=\"text-align: right;\">\n",
       "      <th></th>\n",
       "      <th>_id</th>\n",
       "      <th>month</th>\n",
       "      <th>town</th>\n",
       "      <th>flat</th>\n",
       "      <th>block</th>\n",
       "      <th>street_name</th>\n",
       "      <th>storey_range</th>\n",
       "      <th>area</th>\n",
       "      <th>lease_left_mths</th>\n",
       "      <th>price</th>\n",
       "      <th>insert_date</th>\n",
       "    </tr>\n",
       "  </thead>\n",
       "  <tbody>\n",
       "    <tr>\n",
       "      <th>0</th>\n",
       "      <td>6698d67f9920c8136bde3735</td>\n",
       "      <td>2020-01</td>\n",
       "      <td>ANG MO KIO</td>\n",
       "      <td>3R</td>\n",
       "      <td>208</td>\n",
       "      <td>ANG MO KIO AVE 1</td>\n",
       "      <td>04-06</td>\n",
       "      <td>73.0</td>\n",
       "      <td>667</td>\n",
       "      <td>265000.0</td>\n",
       "      <td>2024-07-18</td>\n",
       "    </tr>\n",
       "    <tr>\n",
       "      <th>1</th>\n",
       "      <td>6698d67f9920c8136bde3736</td>\n",
       "      <td>2020-01</td>\n",
       "      <td>ANG MO KIO</td>\n",
       "      <td>3R</td>\n",
       "      <td>307C</td>\n",
       "      <td>ANG MO KIO AVE 1</td>\n",
       "      <td>19-21</td>\n",
       "      <td>70.0</td>\n",
       "      <td>1100</td>\n",
       "      <td>470000.0</td>\n",
       "      <td>2024-07-18</td>\n",
       "    </tr>\n",
       "    <tr>\n",
       "      <th>2</th>\n",
       "      <td>6698d67f9920c8136bde3737</td>\n",
       "      <td>2020-01</td>\n",
       "      <td>ANG MO KIO</td>\n",
       "      <td>3R</td>\n",
       "      <td>319</td>\n",
       "      <td>ANG MO KIO AVE 1</td>\n",
       "      <td>01-03</td>\n",
       "      <td>73.0</td>\n",
       "      <td>676</td>\n",
       "      <td>230000.0</td>\n",
       "      <td>2024-07-18</td>\n",
       "    </tr>\n",
       "    <tr>\n",
       "      <th>3</th>\n",
       "      <td>6698d67f9920c8136bde3738</td>\n",
       "      <td>2020-01</td>\n",
       "      <td>ANG MO KIO</td>\n",
       "      <td>3R</td>\n",
       "      <td>216</td>\n",
       "      <td>ANG MO KIO AVE 1</td>\n",
       "      <td>04-06</td>\n",
       "      <td>73.0</td>\n",
       "      <td>663</td>\n",
       "      <td>280000.0</td>\n",
       "      <td>2024-07-18</td>\n",
       "    </tr>\n",
       "    <tr>\n",
       "      <th>4</th>\n",
       "      <td>6698d67f9920c8136bde3739</td>\n",
       "      <td>2020-01</td>\n",
       "      <td>ANG MO KIO</td>\n",
       "      <td>3R</td>\n",
       "      <td>556</td>\n",
       "      <td>ANG MO KIO AVE 10</td>\n",
       "      <td>07-09</td>\n",
       "      <td>68.0</td>\n",
       "      <td>709</td>\n",
       "      <td>220000.0</td>\n",
       "      <td>2024-07-18</td>\n",
       "    </tr>\n",
       "    <tr>\n",
       "      <th>...</th>\n",
       "      <td>...</td>\n",
       "      <td>...</td>\n",
       "      <td>...</td>\n",
       "      <td>...</td>\n",
       "      <td>...</td>\n",
       "      <td>...</td>\n",
       "      <td>...</td>\n",
       "      <td>...</td>\n",
       "      <td>...</td>\n",
       "      <td>...</td>\n",
       "      <td>...</td>\n",
       "    </tr>\n",
       "    <tr>\n",
       "      <th>120471</th>\n",
       "      <td>6698d6809920c8136be00dcc</td>\n",
       "      <td>2024-07</td>\n",
       "      <td>YISHUN</td>\n",
       "      <td>EC</td>\n",
       "      <td>352</td>\n",
       "      <td>YISHUN RING RD</td>\n",
       "      <td>04-06</td>\n",
       "      <td>146.0</td>\n",
       "      <td>757</td>\n",
       "      <td>865000.0</td>\n",
       "      <td>2024-07-18</td>\n",
       "    </tr>\n",
       "    <tr>\n",
       "      <th>120472</th>\n",
       "      <td>6698d6809920c8136be00dcd</td>\n",
       "      <td>2024-07</td>\n",
       "      <td>YISHUN</td>\n",
       "      <td>EC</td>\n",
       "      <td>359</td>\n",
       "      <td>YISHUN RING RD</td>\n",
       "      <td>10-12</td>\n",
       "      <td>145.0</td>\n",
       "      <td>757</td>\n",
       "      <td>880000.0</td>\n",
       "      <td>2024-07-18</td>\n",
       "    </tr>\n",
       "    <tr>\n",
       "      <th>120473</th>\n",
       "      <td>6698d6809920c8136be00dce</td>\n",
       "      <td>2024-07</td>\n",
       "      <td>YISHUN</td>\n",
       "      <td>EC</td>\n",
       "      <td>277</td>\n",
       "      <td>YISHUN ST 22</td>\n",
       "      <td>01-03</td>\n",
       "      <td>146.0</td>\n",
       "      <td>723</td>\n",
       "      <td>770000.0</td>\n",
       "      <td>2024-07-18</td>\n",
       "    </tr>\n",
       "    <tr>\n",
       "      <th>120474</th>\n",
       "      <td>6698d6809920c8136be00dcf</td>\n",
       "      <td>2024-07</td>\n",
       "      <td>YISHUN</td>\n",
       "      <td>EC</td>\n",
       "      <td>277</td>\n",
       "      <td>YISHUN ST 22</td>\n",
       "      <td>04-06</td>\n",
       "      <td>146.0</td>\n",
       "      <td>722</td>\n",
       "      <td>800000.0</td>\n",
       "      <td>2024-07-18</td>\n",
       "    </tr>\n",
       "    <tr>\n",
       "      <th>120475</th>\n",
       "      <td>6698d6809920c8136be00dd0</td>\n",
       "      <td>2024-07</td>\n",
       "      <td>YISHUN</td>\n",
       "      <td>EC</td>\n",
       "      <td>277</td>\n",
       "      <td>YISHUN ST 22</td>\n",
       "      <td>01-03</td>\n",
       "      <td>146.0</td>\n",
       "      <td>722</td>\n",
       "      <td>775000.0</td>\n",
       "      <td>2024-07-18</td>\n",
       "    </tr>\n",
       "  </tbody>\n",
       "</table>\n",
       "<p>120476 rows × 11 columns</p>\n",
       "</div>"
      ],
      "text/plain": [
       "                             _id    month        town flat block  \\\n",
       "0       6698d67f9920c8136bde3735  2020-01  ANG MO KIO   3R   208   \n",
       "1       6698d67f9920c8136bde3736  2020-01  ANG MO KIO   3R  307C   \n",
       "2       6698d67f9920c8136bde3737  2020-01  ANG MO KIO   3R   319   \n",
       "3       6698d67f9920c8136bde3738  2020-01  ANG MO KIO   3R   216   \n",
       "4       6698d67f9920c8136bde3739  2020-01  ANG MO KIO   3R   556   \n",
       "...                          ...      ...         ...  ...   ...   \n",
       "120471  6698d6809920c8136be00dcc  2024-07      YISHUN   EC   352   \n",
       "120472  6698d6809920c8136be00dcd  2024-07      YISHUN   EC   359   \n",
       "120473  6698d6809920c8136be00dce  2024-07      YISHUN   EC   277   \n",
       "120474  6698d6809920c8136be00dcf  2024-07      YISHUN   EC   277   \n",
       "120475  6698d6809920c8136be00dd0  2024-07      YISHUN   EC   277   \n",
       "\n",
       "              street_name storey_range   area  lease_left_mths     price  \\\n",
       "0        ANG MO KIO AVE 1        04-06   73.0              667  265000.0   \n",
       "1        ANG MO KIO AVE 1        19-21   70.0             1100  470000.0   \n",
       "2        ANG MO KIO AVE 1        01-03   73.0              676  230000.0   \n",
       "3        ANG MO KIO AVE 1        04-06   73.0              663  280000.0   \n",
       "4       ANG MO KIO AVE 10        07-09   68.0              709  220000.0   \n",
       "...                   ...          ...    ...              ...       ...   \n",
       "120471     YISHUN RING RD        04-06  146.0              757  865000.0   \n",
       "120472     YISHUN RING RD        10-12  145.0              757  880000.0   \n",
       "120473       YISHUN ST 22        01-03  146.0              723  770000.0   \n",
       "120474       YISHUN ST 22        04-06  146.0              722  800000.0   \n",
       "120475       YISHUN ST 22        01-03  146.0              722  775000.0   \n",
       "\n",
       "       insert_date  \n",
       "0       2024-07-18  \n",
       "1       2024-07-18  \n",
       "2       2024-07-18  \n",
       "3       2024-07-18  \n",
       "4       2024-07-18  \n",
       "...            ...  \n",
       "120471  2024-07-18  \n",
       "120472  2024-07-18  \n",
       "120473  2024-07-18  \n",
       "120474  2024-07-18  \n",
       "120475  2024-07-18  \n",
       "\n",
       "[120476 rows x 11 columns]"
      ]
     },
     "execution_count": 111,
     "metadata": {},
     "output_type": "execute_result"
    }
   ],
   "source": [
    "query_output = db_nlb['hdb_latest'].find({}, {})\n",
    "documents_list = list(query_output)\n",
    "pd.DataFrame(documents_list)"
   ]
  },
  {
   "cell_type": "markdown",
   "id": "ecb4eac2-b280-4629-953e-71eb5cf7ab2b",
   "metadata": {},
   "source": [
    "### Query "
   ]
  },
  {
   "cell_type": "code",
   "execution_count": 66,
   "id": "6559c35c-267a-4a09-aec7-bad529e630be",
   "metadata": {
    "tags": []
   },
   "outputs": [],
   "source": [
    "def create_mdb_query_w_df_cols(df: pd.DataFrame):\n",
    "    \"\"\" Creates mongoDB query from dataframe or list of known column names\"\"\"\n",
    "\n",
    "    if type(df) == pd.DataFrame:\n",
    "        col_names = df.columns.tolist()\n",
    "    elif type(df) == list:\n",
    "        col_names = df\n",
    "    elif type(df) == str:\n",
    "        col_names = [i.strip() for i in df.split(',')]\n",
    "    \n",
    "    col_dict = dict()\n",
    "    col_filter = {\"_id\" : 0}\n",
    "    \n",
    "    for name in col_names:\n",
    "        col_dict[name] = {\"$exists\": True}\n",
    "        col_filter[name] = 1\n",
    "    \n",
    "    return col_dict, col_filter"
   ]
  },
  {
   "cell_type": "code",
   "execution_count": 67,
   "id": "1d15defc-74a3-4248-8d8f-81d3b18d7897",
   "metadata": {
    "tags": []
   },
   "outputs": [],
   "source": [
    "# Testing query on just a list of column names\n",
    "mdb_query = create_mdb_query_w_df_cols(['month', 'town', 'price'])\n",
    "query_p, query_f = mdb_query"
   ]
  },
  {
   "cell_type": "code",
   "execution_count": 68,
   "id": "e0d34fe7-b3f2-4c80-bd6a-fb2ba0f40dc7",
   "metadata": {
    "tags": []
   },
   "outputs": [
    {
     "data": {
      "text/plain": [
       "[]"
      ]
     },
     "execution_count": 68,
     "metadata": {},
     "output_type": "execute_result"
    }
   ],
   "source": [
    "list(db_nlb['hdb_updated'].find({ \"month\": {\"$gt\": \"2011-12-01\"}, \"month\": {\"$lt\": \"2024-01-01\" }}, query_f).limit(10))"
   ]
  },
  {
   "cell_type": "code",
   "execution_count": 32,
   "id": "c436ce17-a523-49e3-aca3-c684846228ee",
   "metadata": {
    "tags": []
   },
   "outputs": [
    {
     "data": {
      "text/plain": [
       "'flat_1'"
      ]
     },
     "execution_count": 32,
     "metadata": {},
     "output_type": "execute_result"
    }
   ],
   "source": [
    "db_nlb[\"hdb_updated\"].create_index(\"month\")\n",
    "db_nlb[\"hdb_updated\"].create_index(\"town\")\n",
    "db_nlb[\"hdb_updated\"].create_index(\"flat\")"
   ]
  },
  {
   "cell_type": "code",
   "execution_count": 35,
   "id": "d950a534-95cd-425b-a21b-c0e02484a7e7",
   "metadata": {
    "tags": []
   },
   "outputs": [],
   "source": [
    "query_output = db_nlb['hdb_updated'].find(query_p, query_f)\n",
    "documents_list = list(query_output)\n",
    "df = pd.DataFrame(documents_list)\n",
    "df.shape"
   ]
  },
  {
   "cell_type": "markdown",
   "id": "7238df6b-9ce8-4c52-a708-dcf925e23d60",
   "metadata": {},
   "source": [
    "### Inject older records "
   ]
  },
  {
   "cell_type": "code",
   "execution_count": 145,
   "id": "43700e57-6868-40b9-8cd3-84abb3a3b184",
   "metadata": {
    "tags": []
   },
   "outputs": [
    {
     "data": {
      "text/plain": [
       "(100, 10)"
      ]
     },
     "execution_count": 145,
     "metadata": {},
     "output_type": "execute_result"
    }
   ],
   "source": [
    "make_old_df = latest_df.head(100)\n",
    "make_old_df.shape"
   ]
  },
  {
   "cell_type": "code",
   "execution_count": 149,
   "id": "a6d55fab-2ec3-42a7-8a7c-f50dd92ebae8",
   "metadata": {
    "tags": []
   },
   "outputs": [
    {
     "data": {
      "text/html": [
       "<div>\n",
       "<style scoped>\n",
       "    .dataframe tbody tr th:only-of-type {\n",
       "        vertical-align: middle;\n",
       "    }\n",
       "\n",
       "    .dataframe tbody tr th {\n",
       "        vertical-align: top;\n",
       "    }\n",
       "\n",
       "    .dataframe thead th {\n",
       "        text-align: right;\n",
       "    }\n",
       "</style>\n",
       "<table border=\"1\" class=\"dataframe\">\n",
       "  <thead>\n",
       "    <tr style=\"text-align: right;\">\n",
       "      <th></th>\n",
       "      <th>month</th>\n",
       "      <th>town</th>\n",
       "      <th>flat</th>\n",
       "      <th>block</th>\n",
       "      <th>street_name</th>\n",
       "      <th>storey_range</th>\n",
       "      <th>area</th>\n",
       "      <th>lease_left_mths</th>\n",
       "      <th>price</th>\n",
       "      <th>insert_date</th>\n",
       "    </tr>\n",
       "  </thead>\n",
       "  <tbody>\n",
       "    <tr>\n",
       "      <th>0</th>\n",
       "      <td>2020-01</td>\n",
       "      <td>ANG MO KIO</td>\n",
       "      <td>3R</td>\n",
       "      <td>208</td>\n",
       "      <td>ANG MO KIO AVE 1</td>\n",
       "      <td>04-06</td>\n",
       "      <td>73.0</td>\n",
       "      <td>667</td>\n",
       "      <td>265000.0</td>\n",
       "      <td>2024-07-17</td>\n",
       "    </tr>\n",
       "  </tbody>\n",
       "</table>\n",
       "</div>"
      ],
      "text/plain": [
       "     month        town flat block       street_name storey_range  area  \\\n",
       "0  2020-01  ANG MO KIO   3R   208  ANG MO KIO AVE 1        04-06  73.0   \n",
       "\n",
       "   lease_left_mths     price insert_date  \n",
       "0              667  265000.0  2024-07-17  "
      ]
     },
     "execution_count": 149,
     "metadata": {},
     "output_type": "execute_result"
    }
   ],
   "source": [
    "make_old_df['insert_date'] = '2024-07-17'\n",
    "make_old_df.head(1)"
   ]
  },
  {
   "cell_type": "code",
   "execution_count": 150,
   "id": "122ca17c-8336-4130-9fa1-b49dc07423e0",
   "metadata": {
    "tags": []
   },
   "outputs": [
    {
     "data": {
      "text/plain": [
       "<pymongo.results.InsertManyResult at 0x159763100>"
      ]
     },
     "execution_count": 150,
     "metadata": {},
     "output_type": "execute_result"
    }
   ],
   "source": [
    "data_dict = make_old_df.to_dict(\"records\")\n",
    "\n",
    "# Insert data into MongoDB\n",
    "hdb_updated.insert_many(data_dict)"
   ]
  },
  {
   "cell_type": "markdown",
   "id": "1da5e94a-eca2-4fdf-9ca6-4a50ab1cd881",
   "metadata": {},
   "source": [
    "### Testing filtering for latest records\n",
    "- See if I can change this into a Polars extraction instead?"
   ]
  },
  {
   "cell_type": "code",
   "execution_count": 12,
   "id": "346b7ef4-5969-407d-8291-0c4ebb1c563f",
   "metadata": {
    "tags": []
   },
   "outputs": [
    {
     "ename": "NameError",
     "evalue": "name 'latest_df' is not defined",
     "output_type": "error",
     "traceback": [
      "\u001b[0;31m---------------------------------------------------------------------------\u001b[0m",
      "\u001b[0;31mNameError\u001b[0m                                 Traceback (most recent call last)",
      "Cell \u001b[0;32mIn[12], line 1\u001b[0m\n\u001b[0;32m----> 1\u001b[0m mdb_query \u001b[38;5;241m=\u001b[39m create_mdb_query_w_df_cols(\u001b[43mlatest_df\u001b[49m)\n\u001b[1;32m      2\u001b[0m query_p, query_f \u001b[38;5;241m=\u001b[39m mdb_query\n\u001b[1;32m      4\u001b[0m query_output \u001b[38;5;241m=\u001b[39m db_nlb[\u001b[38;5;124m'\u001b[39m\u001b[38;5;124mhdb_updated\u001b[39m\u001b[38;5;124m'\u001b[39m]\u001b[38;5;241m.\u001b[39mfind(query_p, query_f)\n",
      "\u001b[0;31mNameError\u001b[0m: name 'latest_df' is not defined"
     ]
    }
   ],
   "source": [
    "mdb_query = create_mdb_query_w_df_cols(latest_df)\n",
    "query_p, query_f = mdb_query\n",
    "\n",
    "query_output = db_nlb['hdb_updated'].find(query_p, query_f)\n",
    "documents_list = list(query_output)\n",
    "df = pd.DataFrame(documents_list)"
   ]
  },
  {
   "cell_type": "code",
   "execution_count": 152,
   "id": "c10d4d39-983b-48db-bf47-b774d9abf389",
   "metadata": {
    "tags": []
   },
   "outputs": [
    {
     "data": {
      "text/plain": [
       "(120387, 10)"
      ]
     },
     "execution_count": 152,
     "metadata": {},
     "output_type": "execute_result"
    }
   ],
   "source": [
    "cols = df.columns[:-1].tolist()\n",
    "df_results = df.sort_values('insert_date', ascending=False).groupby(cols).head(1)\n",
    "df_results.shape"
   ]
  },
  {
   "cell_type": "code",
   "execution_count": 154,
   "id": "f4a07805-3038-468b-bd3f-6b253635985b",
   "metadata": {
    "tags": []
   },
   "outputs": [
    {
     "data": {
      "text/plain": [
       "insert_date\n",
       "2024-07-18    120387\n",
       "Name: count, dtype: int64"
      ]
     },
     "execution_count": 154,
     "metadata": {},
     "output_type": "execute_result"
    }
   ],
   "source": [
    "df_results.insert_date.value_counts()"
   ]
  }
 ],
 "metadata": {
  "kernelspec": {
   "display_name": "Python 3 (ipykernel)",
   "language": "python",
   "name": "python3"
  },
  "language_info": {
   "codemirror_mode": {
    "name": "ipython",
    "version": 3
   },
   "file_extension": ".py",
   "mimetype": "text/x-python",
   "name": "python",
   "nbconvert_exporter": "python",
   "pygments_lexer": "ipython3",
   "version": "3.9.10"
  }
 },
 "nbformat": 4,
 "nbformat_minor": 5
}
