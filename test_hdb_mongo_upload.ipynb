{
 "cells": [
  {
   "cell_type": "code",
   "execution_count": 1,
   "id": "67ce487b-e588-4486-87cf-bbd495bbd26b",
   "metadata": {
    "tags": []
   },
   "outputs": [],
   "source": [
    "import os\n",
    "import json\n",
    "import requests\n",
    "import numpy as np\n",
    "import pandas as pd\n",
    "from datetime import datetime\n",
    "from tqdm.notebook import tqdm\n",
    "import plotly.graph_objects as go"
   ]
  },
  {
   "cell_type": "code",
   "execution_count": 52,
   "id": "34ba1970-d266-414b-83fe-582eeb3ab7c3",
   "metadata": {
    "tags": []
   },
   "outputs": [],
   "source": [
    "current_mth = datetime.now().date().strftime(\"%Y-%m\")\n",
    "mths_2017_onwards = [str(i)[:7] for i in pd.date_range(\n",
    "    \"2017-01-01\", current_mth+\"-01\", freq='MS').tolist()]"
   ]
  },
  {
   "cell_type": "code",
   "execution_count": 6,
   "id": "0f716b88-edb9-4643-b16a-1f11711cb519",
   "metadata": {
    "tags": []
   },
   "outputs": [
    {
     "data": {
      "application/vnd.jupyter.widget-view+json": {
       "model_id": "b6fb00e1d2cf4cc4bb83e91391f03374",
       "version_major": 2,
       "version_minor": 0
      },
      "text/plain": [
       "  0%|          | 0/90 [00:00<?, ?it/s]"
      ]
     },
     "metadata": {},
     "output_type": "display_data"
    }
   ],
   "source": [
    "df_cols = ['month', 'town', 'flat_type', 'block', 'street_name', 'storey_range', 'floor_area_sqm', \n",
    "           'remaining_lease', 'lease_commence_date', 'resale_price' ]\n",
    "\n",
    "param_fields = \",\".join(df_cols)\n",
    "basic_df = pd.DataFrame()\n",
    "\n",
    "mth_2017 = \"?resource_id=d_8b84c4ee58e3cfc0ece0d773c8ca6abc\"\n",
    "base_url = \"https://data.gov.sg/api/action/datastore_search\"\n",
    "url = base_url + mth_2017\n",
    "\n",
    "for mth in tqdm(mths_2017_onwards):\n",
    "    params = {\n",
    "        \"fields\": param_fields,\n",
    "        \"filters\": json.dumps({'month': mth}),\n",
    "        \"limit\": 10000\n",
    "    }\n",
    "    response = requests.get(url, params=params)\n",
    "    mth_df = pd.DataFrame(response.json().get(\"result\").get(\"records\"))   \n",
    "    basic_df = pd.concat([basic_df, mth_df], axis=0)"
   ]
  },
  {
   "cell_type": "code",
   "execution_count": 7,
   "id": "4857573e-933c-4824-938d-1cd4fcc73593",
   "metadata": {
    "tags": []
   },
   "outputs": [
    {
     "data": {
      "text/html": [
       "<div>\n",
       "<style scoped>\n",
       "    .dataframe tbody tr th:only-of-type {\n",
       "        vertical-align: middle;\n",
       "    }\n",
       "\n",
       "    .dataframe tbody tr th {\n",
       "        vertical-align: top;\n",
       "    }\n",
       "\n",
       "    .dataframe thead th {\n",
       "        text-align: right;\n",
       "    }\n",
       "</style>\n",
       "<table border=\"1\" class=\"dataframe\">\n",
       "  <thead>\n",
       "    <tr style=\"text-align: right;\">\n",
       "      <th></th>\n",
       "      <th>month</th>\n",
       "      <th>town</th>\n",
       "      <th>flat_type</th>\n",
       "      <th>block</th>\n",
       "      <th>street_name</th>\n",
       "      <th>storey_range</th>\n",
       "      <th>floor_area_sqm</th>\n",
       "      <th>remaining_lease</th>\n",
       "      <th>lease_commence_date</th>\n",
       "      <th>resale_price</th>\n",
       "    </tr>\n",
       "  </thead>\n",
       "  <tbody>\n",
       "    <tr>\n",
       "      <th>0</th>\n",
       "      <td>2017-01</td>\n",
       "      <td>ANG MO KIO</td>\n",
       "      <td>2 ROOM</td>\n",
       "      <td>406</td>\n",
       "      <td>ANG MO KIO AVE 10</td>\n",
       "      <td>10 TO 12</td>\n",
       "      <td>44</td>\n",
       "      <td>61 years 04 months</td>\n",
       "      <td>1979</td>\n",
       "      <td>232000</td>\n",
       "    </tr>\n",
       "    <tr>\n",
       "      <th>1</th>\n",
       "      <td>2017-01</td>\n",
       "      <td>ANG MO KIO</td>\n",
       "      <td>3 ROOM</td>\n",
       "      <td>108</td>\n",
       "      <td>ANG MO KIO AVE 4</td>\n",
       "      <td>01 TO 03</td>\n",
       "      <td>67</td>\n",
       "      <td>60 years 07 months</td>\n",
       "      <td>1978</td>\n",
       "      <td>250000</td>\n",
       "    </tr>\n",
       "    <tr>\n",
       "      <th>2</th>\n",
       "      <td>2017-01</td>\n",
       "      <td>ANG MO KIO</td>\n",
       "      <td>3 ROOM</td>\n",
       "      <td>602</td>\n",
       "      <td>ANG MO KIO AVE 5</td>\n",
       "      <td>01 TO 03</td>\n",
       "      <td>67</td>\n",
       "      <td>62 years 05 months</td>\n",
       "      <td>1980</td>\n",
       "      <td>262000</td>\n",
       "    </tr>\n",
       "    <tr>\n",
       "      <th>3</th>\n",
       "      <td>2017-01</td>\n",
       "      <td>ANG MO KIO</td>\n",
       "      <td>3 ROOM</td>\n",
       "      <td>465</td>\n",
       "      <td>ANG MO KIO AVE 10</td>\n",
       "      <td>04 TO 06</td>\n",
       "      <td>68</td>\n",
       "      <td>62 years 01 month</td>\n",
       "      <td>1980</td>\n",
       "      <td>265000</td>\n",
       "    </tr>\n",
       "    <tr>\n",
       "      <th>4</th>\n",
       "      <td>2017-01</td>\n",
       "      <td>ANG MO KIO</td>\n",
       "      <td>3 ROOM</td>\n",
       "      <td>601</td>\n",
       "      <td>ANG MO KIO AVE 5</td>\n",
       "      <td>01 TO 03</td>\n",
       "      <td>67</td>\n",
       "      <td>62 years 05 months</td>\n",
       "      <td>1980</td>\n",
       "      <td>265000</td>\n",
       "    </tr>\n",
       "  </tbody>\n",
       "</table>\n",
       "</div>"
      ],
      "text/plain": [
       "     month        town flat_type block        street_name storey_range  \\\n",
       "0  2017-01  ANG MO KIO    2 ROOM   406  ANG MO KIO AVE 10     10 TO 12   \n",
       "1  2017-01  ANG MO KIO    3 ROOM   108   ANG MO KIO AVE 4     01 TO 03   \n",
       "2  2017-01  ANG MO KIO    3 ROOM   602   ANG MO KIO AVE 5     01 TO 03   \n",
       "3  2017-01  ANG MO KIO    3 ROOM   465  ANG MO KIO AVE 10     04 TO 06   \n",
       "4  2017-01  ANG MO KIO    3 ROOM   601   ANG MO KIO AVE 5     01 TO 03   \n",
       "\n",
       "  floor_area_sqm     remaining_lease lease_commence_date resale_price  \n",
       "0             44  61 years 04 months                1979       232000  \n",
       "1             67  60 years 07 months                1978       250000  \n",
       "2             67  62 years 05 months                1980       262000  \n",
       "3             68   62 years 01 month                1980       265000  \n",
       "4             67  62 years 05 months                1980       265000  "
      ]
     },
     "execution_count": 7,
     "metadata": {},
     "output_type": "execute_result"
    }
   ],
   "source": [
    "basic_df.head()"
   ]
  },
  {
   "cell_type": "code",
   "execution_count": 21,
   "id": "372255a3-a0ee-4bc8-bc06-3690ac546aba",
   "metadata": {
    "tags": []
   },
   "outputs": [],
   "source": [
    "latest_df = basic_df.copy()\n",
    "latest_df = latest_df[['month', 'town', 'flat_type', 'block', 'street_name', 'storey_range', \n",
    "                       'floor_area_sqm', 'remaining_lease', 'resale_price']]\n",
    "\n",
    "latest_df.columns = ['month', 'town', 'flat', 'block', 'street_name', 'storey_range', 'area', 'lease_left', 'price']\n",
    "# latest_df['month'] = pd.to_datetime(latest_df['month'])\n",
    "latest_df = latest_df[latest_df['month'] >= '2020-01']\n",
    "latest_df['area'] = latest_df['area'].astype(np.float)\n",
    "# latest_df['price'] = latest_df['price'].astype(np.float16)\n",
    "# latest_df['start_date'] = latest_df['start_date'].astype(np.uint16)\n",
    "latest_df['lease_left'] = [i.replace(' years', 'y') for i in latest_df['lease_left']]\n",
    "latest_df['lease_left'] = [i.replace(' months', 'm') for i in latest_df['lease_left']]\n",
    "latest_df['lease_left'] = [i.replace(' month', 'm') for i in latest_df['lease_left']]\n",
    "latest_df['storey_range'] = [i.replace(' TO ', '-') for i in latest_df['storey_range']]\n",
    "latest_df['flat'] = [i.replace(\" ROOM\", \"R\") for i in latest_df['flat']]\n",
    "latest_df['flat'] = [i.replace(\"EXECUTIVE\", \"EC\") for i in latest_df['flat']]\n",
    "latest_df['flat'] = [i.replace(\"MULTI-GENERATION\", \"MG\") for i in latest_df['flat']]\n",
    "latest_df['flat'] = latest_df['flat'].astype(str)"
   ]
  },
  {
   "cell_type": "code",
   "execution_count": 22,
   "id": "8440eda5-1880-4de5-ac16-328e82b7194b",
   "metadata": {
    "tags": []
   },
   "outputs": [
    {
     "name": "stdout",
     "output_type": "stream",
     "text": [
      "<class 'pandas.core.frame.DataFrame'>\n",
      "Index: 118467 entries, 0 to 1898\n",
      "Data columns (total 9 columns):\n",
      " #   Column        Non-Null Count   Dtype  \n",
      "---  ------        --------------   -----  \n",
      " 0   month         118467 non-null  object \n",
      " 1   town          118467 non-null  object \n",
      " 2   flat          118467 non-null  object \n",
      " 3   block         118467 non-null  object \n",
      " 4   street_name   118467 non-null  object \n",
      " 5   storey_range  118467 non-null  object \n",
      " 6   area          118467 non-null  float64\n",
      " 7   lease_left    118467 non-null  object \n",
      " 8   price         118467 non-null  object \n",
      "dtypes: float64(1), object(8)\n",
      "memory usage: 9.0+ MB\n"
     ]
    }
   ],
   "source": [
    "latest_df.info()"
   ]
  },
  {
   "cell_type": "code",
   "execution_count": 23,
   "id": "cecfa09c-ca79-4a5f-962a-c9cd3810dad4",
   "metadata": {
    "tags": []
   },
   "outputs": [
    {
     "data": {
      "text/html": [
       "<div>\n",
       "<style scoped>\n",
       "    .dataframe tbody tr th:only-of-type {\n",
       "        vertical-align: middle;\n",
       "    }\n",
       "\n",
       "    .dataframe tbody tr th {\n",
       "        vertical-align: top;\n",
       "    }\n",
       "\n",
       "    .dataframe thead th {\n",
       "        text-align: right;\n",
       "    }\n",
       "</style>\n",
       "<table border=\"1\" class=\"dataframe\">\n",
       "  <thead>\n",
       "    <tr style=\"text-align: right;\">\n",
       "      <th></th>\n",
       "      <th>month</th>\n",
       "      <th>town</th>\n",
       "      <th>flat</th>\n",
       "      <th>block</th>\n",
       "      <th>street_name</th>\n",
       "      <th>storey_range</th>\n",
       "      <th>area</th>\n",
       "      <th>lease_left</th>\n",
       "      <th>price</th>\n",
       "    </tr>\n",
       "  </thead>\n",
       "  <tbody>\n",
       "    <tr>\n",
       "      <th>0</th>\n",
       "      <td>2020-01</td>\n",
       "      <td>ANG MO KIO</td>\n",
       "      <td>3R</td>\n",
       "      <td>208</td>\n",
       "      <td>ANG MO KIO AVE 1</td>\n",
       "      <td>04-06</td>\n",
       "      <td>73.0</td>\n",
       "      <td>55y 07m</td>\n",
       "      <td>265000</td>\n",
       "    </tr>\n",
       "    <tr>\n",
       "      <th>1</th>\n",
       "      <td>2020-01</td>\n",
       "      <td>ANG MO KIO</td>\n",
       "      <td>3R</td>\n",
       "      <td>307C</td>\n",
       "      <td>ANG MO KIO AVE 1</td>\n",
       "      <td>19-21</td>\n",
       "      <td>70.0</td>\n",
       "      <td>91y 08m</td>\n",
       "      <td>470000</td>\n",
       "    </tr>\n",
       "    <tr>\n",
       "      <th>2</th>\n",
       "      <td>2020-01</td>\n",
       "      <td>ANG MO KIO</td>\n",
       "      <td>3R</td>\n",
       "      <td>319</td>\n",
       "      <td>ANG MO KIO AVE 1</td>\n",
       "      <td>01-03</td>\n",
       "      <td>73.0</td>\n",
       "      <td>56y 04m</td>\n",
       "      <td>230000</td>\n",
       "    </tr>\n",
       "    <tr>\n",
       "      <th>3</th>\n",
       "      <td>2020-01</td>\n",
       "      <td>ANG MO KIO</td>\n",
       "      <td>3R</td>\n",
       "      <td>216</td>\n",
       "      <td>ANG MO KIO AVE 1</td>\n",
       "      <td>04-06</td>\n",
       "      <td>73.0</td>\n",
       "      <td>55y 03m</td>\n",
       "      <td>280000</td>\n",
       "    </tr>\n",
       "    <tr>\n",
       "      <th>4</th>\n",
       "      <td>2020-01</td>\n",
       "      <td>ANG MO KIO</td>\n",
       "      <td>3R</td>\n",
       "      <td>556</td>\n",
       "      <td>ANG MO KIO AVE 10</td>\n",
       "      <td>07-09</td>\n",
       "      <td>68.0</td>\n",
       "      <td>59y 01m</td>\n",
       "      <td>220000</td>\n",
       "    </tr>\n",
       "  </tbody>\n",
       "</table>\n",
       "</div>"
      ],
      "text/plain": [
       "     month        town flat block        street_name storey_range  area  \\\n",
       "0  2020-01  ANG MO KIO   3R   208   ANG MO KIO AVE 1        04-06  73.0   \n",
       "1  2020-01  ANG MO KIO   3R  307C   ANG MO KIO AVE 1        19-21  70.0   \n",
       "2  2020-01  ANG MO KIO   3R   319   ANG MO KIO AVE 1        01-03  73.0   \n",
       "3  2020-01  ANG MO KIO   3R   216   ANG MO KIO AVE 1        04-06  73.0   \n",
       "4  2020-01  ANG MO KIO   3R   556  ANG MO KIO AVE 10        07-09  68.0   \n",
       "\n",
       "  lease_left   price  \n",
       "0    55y 07m  265000  \n",
       "1    91y 08m  470000  \n",
       "2    56y 04m  230000  \n",
       "3    55y 03m  280000  \n",
       "4    59y 01m  220000  "
      ]
     },
     "execution_count": 23,
     "metadata": {},
     "output_type": "execute_result"
    }
   ],
   "source": [
    "latest_df.head()"
   ]
  },
  {
   "cell_type": "markdown",
   "id": "ece7a329-179c-4f9a-8f1d-b921a740cc20",
   "metadata": {},
   "source": [
    "#### MongoDB Upload "
   ]
  },
  {
   "cell_type": "code",
   "execution_count": 3,
   "id": "2fb5d9af-2069-4761-89da-2ec57519d6b6",
   "metadata": {
    "tags": []
   },
   "outputs": [
    {
     "data": {
      "text/plain": [
       "['nlb', 'admin', 'local']"
      ]
     },
     "execution_count": 3,
     "metadata": {},
     "output_type": "execute_result"
    }
   ],
   "source": [
    "from pymongo import mongo_client\n",
    "from typing import Dict, List\n",
    "from datetime import datetime\n",
    "import time\n",
    "import os\n",
    "\n",
    "# MongoDB credentials\n",
    "MONGO_PASSWORD = os.environ[\"mongo_pw\"]\n",
    "base_url = \"mongodb+srv://cliffchew84:\"\n",
    "end_url = \"cliff-nlb.t0whddv.mongodb.net/?retryWrites=true&w=majority\"\n",
    "mongo_url = f\"{base_url}{MONGO_PASSWORD}@{end_url}\"\n",
    "\n",
    "\n",
    "def connect_mdb():\n",
    "    return mongo_client.MongoClient(mongo_url, serverSelectionTimeoutMS=5000)\n",
    "\n",
    "db = connect_mdb()\n",
    "db.list_database_names()"
   ]
  },
  {
   "cell_type": "code",
   "execution_count": 4,
   "id": "c58a01f4-80a5-4781-9326-8280bf771b75",
   "metadata": {},
   "outputs": [
    {
     "data": {
      "text/plain": [
       "['users',\n",
       " 'user_status',\n",
       " 'hdb_dump',\n",
       " 'user_books',\n",
       " 'user_search',\n",
       " 'books_avail',\n",
       " 'books_info']"
      ]
     },
     "execution_count": 4,
     "metadata": {},
     "output_type": "execute_result"
    }
   ],
   "source": [
    "# Checking DB\n",
    "db_nlb = db['nlb']\n",
    "\n",
    "# Check the collections inside the BD\n",
    "db_nlb.list_collection_names()"
   ]
  },
  {
   "cell_type": "markdown",
   "id": "074b196e-0dc9-48c6-8274-10247177dfe1",
   "metadata": {},
   "source": [
    "#### Dump HDB data into MongoDB "
   ]
  },
  {
   "cell_type": "code",
   "execution_count": 30,
   "id": "2b791ef5-3118-48a0-ae5b-66ffd49c1b45",
   "metadata": {},
   "outputs": [],
   "source": [
    "hdb_dump = db_nlb['hdb_dump']\n",
    "\n",
    "# Convert DataFrame to dictionary\n",
    "data_dict = latest_df.to_dict(\"records\")\n",
    "\n",
    "# Insert data into MongoDB\n",
    "hdb_dump.insert_many(data_dict)"
   ]
  },
  {
   "cell_type": "markdown",
   "id": "8219c6e3-2a87-474f-b58d-023d70792d1b",
   "metadata": {},
   "source": [
    "#### Dump MRT location data into MongoDB "
   ]
  },
  {
   "cell_type": "code",
   "execution_count": 37,
   "id": "9e209983-95b1-42e3-a204-6be2c6b31a70",
   "metadata": {
    "tags": []
   },
   "outputs": [
    {
     "data": {
      "text/html": [
       "<div>\n",
       "<style scoped>\n",
       "    .dataframe tbody tr th:only-of-type {\n",
       "        vertical-align: middle;\n",
       "    }\n",
       "\n",
       "    .dataframe tbody tr th {\n",
       "        vertical-align: top;\n",
       "    }\n",
       "\n",
       "    .dataframe thead th {\n",
       "        text-align: right;\n",
       "    }\n",
       "</style>\n",
       "<table border=\"1\" class=\"dataframe\">\n",
       "  <thead>\n",
       "    <tr style=\"text-align: right;\">\n",
       "      <th></th>\n",
       "      <th>loc_info</th>\n",
       "      <th>LATITUDE</th>\n",
       "      <th>LONGITUDE</th>\n",
       "    </tr>\n",
       "  </thead>\n",
       "  <tbody>\n",
       "    <tr>\n",
       "      <th>0</th>\n",
       "      <td>TE1 | WOODLANDS NORTH</td>\n",
       "      <td>1.448292</td>\n",
       "      <td>103.785693</td>\n",
       "    </tr>\n",
       "    <tr>\n",
       "      <th>1</th>\n",
       "      <td>TE2 | WOODLANDS</td>\n",
       "      <td>1.436058</td>\n",
       "      <td>103.787939</td>\n",
       "    </tr>\n",
       "    <tr>\n",
       "      <th>2</th>\n",
       "      <td>TE3 | WOODLANDS SOUTH</td>\n",
       "      <td>1.427396</td>\n",
       "      <td>103.793264</td>\n",
       "    </tr>\n",
       "    <tr>\n",
       "      <th>3</th>\n",
       "      <td>NS1 | JURONG EAST</td>\n",
       "      <td>1.333153</td>\n",
       "      <td>103.742286</td>\n",
       "    </tr>\n",
       "    <tr>\n",
       "      <th>4</th>\n",
       "      <td>NS2 | BUKIT BATOK</td>\n",
       "      <td>1.349033</td>\n",
       "      <td>103.749566</td>\n",
       "    </tr>\n",
       "  </tbody>\n",
       "</table>\n",
       "</div>"
      ],
      "text/plain": [
       "                loc_info  LATITUDE   LONGITUDE\n",
       "0  TE1 | WOODLANDS NORTH  1.448292  103.785693\n",
       "1        TE2 | WOODLANDS  1.436058  103.787939\n",
       "2  TE3 | WOODLANDS SOUTH  1.427396  103.793264\n",
       "3      NS1 | JURONG EAST  1.333153  103.742286\n",
       "4      NS2 | BUKIT BATOK  1.349033  103.749566"
      ]
     },
     "execution_count": 37,
     "metadata": {},
     "output_type": "execute_result"
    }
   ],
   "source": [
    "mrt_df = pd.read_csv(\"data/mrt_locations.csv\")\n",
    "mrt_df = mrt_df[['code_string', 'code_num', 'BUILDING', 'POSTAL', 'LATITUDE', 'LONGITUDE']]\n",
    "mrt_df.code_num = mrt_df.code_num.astype(str)\n",
    "mrt_df['loc_info'] = mrt_df['code_string'] + mrt_df['code_num'] + \" | \" + mrt_df['BUILDING']\n",
    "final_mrt_df = mrt_df[['loc_info', \"LATITUDE\", \"LONGITUDE\"]]\n",
    "final_mrt_df.head()"
   ]
  },
  {
   "cell_type": "code",
   "execution_count": 38,
   "id": "e913b259-2256-4af4-9d50-59e90813a3e9",
   "metadata": {},
   "outputs": [],
   "source": [
    "# Convert DataFrame to dictionary\n",
    "data_dict = final_mrt_df.to_dict(\"records\")"
   ]
  },
  {
   "cell_type": "code",
   "execution_count": 39,
   "id": "12fe9833-5a6e-428e-838d-f217fa89a07d",
   "metadata": {},
   "outputs": [
    {
     "data": {
      "text/plain": [
       "<pymongo.results.InsertManyResult at 0x134ff2340>"
      ]
     },
     "execution_count": 39,
     "metadata": {},
     "output_type": "execute_result"
    }
   ],
   "source": [
    "# Insert data into MongoDB\n",
    "mrt_location = db_nlb['p_mrt']\n",
    "mrt_location.insert_many(data_dict)"
   ]
  },
  {
   "cell_type": "code",
   "execution_count": 42,
   "id": "aa6e5783-6589-46c1-ac1b-0e0c0045132c",
   "metadata": {
    "tags": []
   },
   "outputs": [],
   "source": [
    "final_mrt_df.to_csv(\"data/p_mrt.csv\")"
   ]
  },
  {
   "cell_type": "markdown",
   "id": "d0615584-c0d6-4674-9f92-45f287f48c23",
   "metadata": {},
   "source": [
    "#### Dump MRT location data into MongoDB "
   ]
  },
  {
   "cell_type": "code",
   "execution_count": 43,
   "id": "d9f10c27-fd13-47eb-ba52-762c861c729f",
   "metadata": {
    "tags": []
   },
   "outputs": [],
   "source": [
    "att_df = pd.read_csv(\"data/attractions_geo_locations.csv\")"
   ]
  },
  {
   "cell_type": "code",
   "execution_count": 44,
   "id": "c2b2a931-6911-4d36-b80a-3b6b015b6c77",
   "metadata": {
    "tags": []
   },
   "outputs": [
    {
     "data": {
      "text/html": [
       "<div>\n",
       "<style scoped>\n",
       "    .dataframe tbody tr th:only-of-type {\n",
       "        vertical-align: middle;\n",
       "    }\n",
       "\n",
       "    .dataframe tbody tr th {\n",
       "        vertical-align: top;\n",
       "    }\n",
       "\n",
       "    .dataframe thead th {\n",
       "        text-align: right;\n",
       "    }\n",
       "</style>\n",
       "<table border=\"1\" class=\"dataframe\">\n",
       "  <thead>\n",
       "    <tr style=\"text-align: right;\">\n",
       "      <th></th>\n",
       "      <th>title</th>\n",
       "      <th>review_counts</th>\n",
       "      <th>address</th>\n",
       "      <th>search_keyword</th>\n",
       "      <th>LATITUDE</th>\n",
       "      <th>LONGITUDE</th>\n",
       "      <th>X</th>\n",
       "      <th>Y</th>\n",
       "      <th>score</th>\n",
       "      <th>keyword_len</th>\n",
       "    </tr>\n",
       "  </thead>\n",
       "  <tbody>\n",
       "    <tr>\n",
       "      <th>0</th>\n",
       "      <td>Gardens by the Bay</td>\n",
       "      <td>59519</td>\n",
       "      <td>18 Marina Gardens Drive Bayfront Plaza, Singap...</td>\n",
       "      <td>018953</td>\n",
       "      <td>1.281758</td>\n",
       "      <td>103.861586</td>\n",
       "      <td>31145.901288</td>\n",
       "      <td>29355.847797</td>\n",
       "      <td>0.0</td>\n",
       "      <td>6</td>\n",
       "    </tr>\n",
       "    <tr>\n",
       "      <th>1</th>\n",
       "      <td>Singapore Mass Rapid Transit  (SMRT)</td>\n",
       "      <td>24046</td>\n",
       "      <td>Singapore 069112 Singapore</td>\n",
       "      <td>069112</td>\n",
       "      <td>1.279354</td>\n",
       "      <td>103.846196</td>\n",
       "      <td>29433.149988</td>\n",
       "      <td>29089.977309</td>\n",
       "      <td>0.0</td>\n",
       "      <td>6</td>\n",
       "    </tr>\n",
       "    <tr>\n",
       "      <th>2</th>\n",
       "      <td>Singapore Zoo</td>\n",
       "      <td>22349</td>\n",
       "      <td>80 Mandai Lake Road, Singapore 729826 Singapore</td>\n",
       "      <td>729826</td>\n",
       "      <td>1.403548</td>\n",
       "      <td>103.788541</td>\n",
       "      <td>23016.906993</td>\n",
       "      <td>42822.731295</td>\n",
       "      <td>0.0</td>\n",
       "      <td>6</td>\n",
       "    </tr>\n",
       "    <tr>\n",
       "      <th>3</th>\n",
       "      <td>Singapore Botanic Gardens</td>\n",
       "      <td>19802</td>\n",
       "      <td>1 Cluny Road, Singapore 259 569 Singapore</td>\n",
       "      <td>259569</td>\n",
       "      <td>1.322157</td>\n",
       "      <td>103.818186</td>\n",
       "      <td>26315.880280</td>\n",
       "      <td>33822.886246</td>\n",
       "      <td>0.0</td>\n",
       "      <td>6</td>\n",
       "    </tr>\n",
       "    <tr>\n",
       "      <th>4</th>\n",
       "      <td>Singapore Flyer</td>\n",
       "      <td>17334</td>\n",
       "      <td>30 Raffles Avenue, Singapore 039803 Singapore</td>\n",
       "      <td>039803</td>\n",
       "      <td>1.289713</td>\n",
       "      <td>103.863372</td>\n",
       "      <td>31344.706763</td>\n",
       "      <td>30235.496031</td>\n",
       "      <td>0.0</td>\n",
       "      <td>6</td>\n",
       "    </tr>\n",
       "  </tbody>\n",
       "</table>\n",
       "</div>"
      ],
      "text/plain": [
       "                                  title  review_counts  \\\n",
       "0                    Gardens by the Bay          59519   \n",
       "1  Singapore Mass Rapid Transit  (SMRT)          24046   \n",
       "2                         Singapore Zoo          22349   \n",
       "3             Singapore Botanic Gardens          19802   \n",
       "4                       Singapore Flyer          17334   \n",
       "\n",
       "                                             address search_keyword  LATITUDE  \\\n",
       "0  18 Marina Gardens Drive Bayfront Plaza, Singap...         018953  1.281758   \n",
       "1                         Singapore 069112 Singapore         069112  1.279354   \n",
       "2    80 Mandai Lake Road, Singapore 729826 Singapore         729826  1.403548   \n",
       "3          1 Cluny Road, Singapore 259 569 Singapore         259569  1.322157   \n",
       "4      30 Raffles Avenue, Singapore 039803 Singapore         039803  1.289713   \n",
       "\n",
       "    LONGITUDE             X             Y  score  keyword_len  \n",
       "0  103.861586  31145.901288  29355.847797    0.0            6  \n",
       "1  103.846196  29433.149988  29089.977309    0.0            6  \n",
       "2  103.788541  23016.906993  42822.731295    0.0            6  \n",
       "3  103.818186  26315.880280  33822.886246    0.0            6  \n",
       "4  103.863372  31344.706763  30235.496031    0.0            6  "
      ]
     },
     "execution_count": 44,
     "metadata": {},
     "output_type": "execute_result"
    }
   ],
   "source": [
    "att_df.head()"
   ]
  },
  {
   "cell_type": "code",
   "execution_count": 48,
   "id": "7d373ee6-1467-4cea-8e3d-ce6229e6280b",
   "metadata": {
    "tags": []
   },
   "outputs": [
    {
     "data": {
      "text/html": [
       "<div>\n",
       "<style scoped>\n",
       "    .dataframe tbody tr th:only-of-type {\n",
       "        vertical-align: middle;\n",
       "    }\n",
       "\n",
       "    .dataframe tbody tr th {\n",
       "        vertical-align: top;\n",
       "    }\n",
       "\n",
       "    .dataframe thead th {\n",
       "        text-align: right;\n",
       "    }\n",
       "</style>\n",
       "<table border=\"1\" class=\"dataframe\">\n",
       "  <thead>\n",
       "    <tr style=\"text-align: right;\">\n",
       "      <th></th>\n",
       "      <th>loc_info</th>\n",
       "      <th>LATITUDE</th>\n",
       "      <th>LONGITUDE</th>\n",
       "    </tr>\n",
       "  </thead>\n",
       "  <tbody>\n",
       "    <tr>\n",
       "      <th>0</th>\n",
       "      <td>Gardens by the Bay</td>\n",
       "      <td>1.281758</td>\n",
       "      <td>103.861586</td>\n",
       "    </tr>\n",
       "    <tr>\n",
       "      <th>1</th>\n",
       "      <td>Singapore Mass Rapid Transit  (SMRT)</td>\n",
       "      <td>1.279354</td>\n",
       "      <td>103.846196</td>\n",
       "    </tr>\n",
       "    <tr>\n",
       "      <th>2</th>\n",
       "      <td>Singapore Zoo</td>\n",
       "      <td>1.403548</td>\n",
       "      <td>103.788541</td>\n",
       "    </tr>\n",
       "    <tr>\n",
       "      <th>3</th>\n",
       "      <td>Singapore Botanic Gardens</td>\n",
       "      <td>1.322157</td>\n",
       "      <td>103.818186</td>\n",
       "    </tr>\n",
       "    <tr>\n",
       "      <th>4</th>\n",
       "      <td>Singapore Flyer</td>\n",
       "      <td>1.289713</td>\n",
       "      <td>103.863372</td>\n",
       "    </tr>\n",
       "  </tbody>\n",
       "</table>\n",
       "</div>"
      ],
      "text/plain": [
       "                               loc_info  LATITUDE   LONGITUDE\n",
       "0                    Gardens by the Bay  1.281758  103.861586\n",
       "1  Singapore Mass Rapid Transit  (SMRT)  1.279354  103.846196\n",
       "2                         Singapore Zoo  1.403548  103.788541\n",
       "3             Singapore Botanic Gardens  1.322157  103.818186\n",
       "4                       Singapore Flyer  1.289713  103.863372"
      ]
     },
     "execution_count": 48,
     "metadata": {},
     "output_type": "execute_result"
    }
   ],
   "source": [
    "att_df['loc_info'] = att_df['title']\n",
    "final_att_df = att_df[['loc_info', \"LATITUDE\", \"LONGITUDE\"]]\n",
    "final_att_df.head()"
   ]
  },
  {
   "cell_type": "code",
   "execution_count": 49,
   "id": "4c539d6a-18c0-40a7-ba4a-c2bdf959d187",
   "metadata": {},
   "outputs": [],
   "source": [
    "# Convert DataFrame to dictionary\n",
    "data_dict = final_att_df.to_dict(\"records\")"
   ]
  },
  {
   "cell_type": "code",
   "execution_count": 50,
   "id": "c88fee27-be7d-43bb-91f8-4d27202b9013",
   "metadata": {},
   "outputs": [
    {
     "data": {
      "text/plain": [
       "<pymongo.results.InsertManyResult at 0x135b98820>"
      ]
     },
     "execution_count": 50,
     "metadata": {},
     "output_type": "execute_result"
    }
   ],
   "source": [
    "# Insert data into MongoDB\n",
    "attractions = db_nlb['p_att']\n",
    "attractions.insert_many(data_dict)"
   ]
  },
  {
   "cell_type": "code",
   "execution_count": 51,
   "id": "b422fe19-4cbf-469d-ba6b-dd259a215d54",
   "metadata": {
    "tags": []
   },
   "outputs": [],
   "source": [
    "final_att_df.to_csv(\"data/p_attractions.csv\")"
   ]
  },
  {
   "cell_type": "markdown",
   "id": "6c00a9fd-a6d1-46d3-aa2e-4495312b1df8",
   "metadata": {},
   "source": [
    "#### Test query from MongoDB "
   ]
  },
  {
   "cell_type": "code",
   "execution_count": 22,
   "id": "c3c3f3cd-ff94-417b-8a81-5de3e75adfa1",
   "metadata": {
    "tags": []
   },
   "outputs": [
    {
     "data": {
      "text/html": [
       "<div>\n",
       "<style scoped>\n",
       "    .dataframe tbody tr th:only-of-type {\n",
       "        vertical-align: middle;\n",
       "    }\n",
       "\n",
       "    .dataframe tbody tr th {\n",
       "        vertical-align: top;\n",
       "    }\n",
       "\n",
       "    .dataframe thead th {\n",
       "        text-align: right;\n",
       "    }\n",
       "</style>\n",
       "<table border=\"1\" class=\"dataframe\">\n",
       "  <thead>\n",
       "    <tr style=\"text-align: right;\">\n",
       "      <th></th>\n",
       "      <th>_id</th>\n",
       "      <th>code_string</th>\n",
       "      <th>code_num</th>\n",
       "      <th>BUILDING</th>\n",
       "      <th>POSTAL</th>\n",
       "      <th>LATITUDE</th>\n",
       "      <th>LONGITUDE</th>\n",
       "    </tr>\n",
       "  </thead>\n",
       "  <tbody>\n",
       "    <tr>\n",
       "      <th>0</th>\n",
       "      <td>66973d9e6aa26544af2107f3</td>\n",
       "      <td>TE</td>\n",
       "      <td>1</td>\n",
       "      <td>WOODLANDS NORTH</td>\n",
       "      <td>737668</td>\n",
       "      <td>1.448292</td>\n",
       "      <td>103.785693</td>\n",
       "    </tr>\n",
       "    <tr>\n",
       "      <th>1</th>\n",
       "      <td>66973d9e6aa26544af2107f4</td>\n",
       "      <td>TE</td>\n",
       "      <td>2</td>\n",
       "      <td>WOODLANDS</td>\n",
       "      <td>737736</td>\n",
       "      <td>1.436058</td>\n",
       "      <td>103.787939</td>\n",
       "    </tr>\n",
       "    <tr>\n",
       "      <th>2</th>\n",
       "      <td>66973d9e6aa26544af2107f5</td>\n",
       "      <td>TE</td>\n",
       "      <td>3</td>\n",
       "      <td>WOODLANDS SOUTH</td>\n",
       "      <td>737741</td>\n",
       "      <td>1.427396</td>\n",
       "      <td>103.793264</td>\n",
       "    </tr>\n",
       "    <tr>\n",
       "      <th>3</th>\n",
       "      <td>66973d9e6aa26544af2107f6</td>\n",
       "      <td>NS</td>\n",
       "      <td>1</td>\n",
       "      <td>JURONG EAST</td>\n",
       "      <td>609690</td>\n",
       "      <td>1.333153</td>\n",
       "      <td>103.742286</td>\n",
       "    </tr>\n",
       "    <tr>\n",
       "      <th>4</th>\n",
       "      <td>66973d9e6aa26544af2107f7</td>\n",
       "      <td>NS</td>\n",
       "      <td>2</td>\n",
       "      <td>BUKIT BATOK</td>\n",
       "      <td>659958</td>\n",
       "      <td>1.349033</td>\n",
       "      <td>103.749566</td>\n",
       "    </tr>\n",
       "    <tr>\n",
       "      <th>...</th>\n",
       "      <td>...</td>\n",
       "      <td>...</td>\n",
       "      <td>...</td>\n",
       "      <td>...</td>\n",
       "      <td>...</td>\n",
       "      <td>...</td>\n",
       "      <td>...</td>\n",
       "    </tr>\n",
       "    <tr>\n",
       "      <th>140</th>\n",
       "      <td>66973d9e6aa26544af21087f</td>\n",
       "      <td>CC</td>\n",
       "      <td>25</td>\n",
       "      <td>HAW PAR VILLA</td>\n",
       "      <td>117396</td>\n",
       "      <td>1.282571</td>\n",
       "      <td>103.781753</td>\n",
       "    </tr>\n",
       "    <tr>\n",
       "      <th>141</th>\n",
       "      <td>66973d9e6aa26544af210880</td>\n",
       "      <td>CC</td>\n",
       "      <td>26</td>\n",
       "      <td>PASIR PANJANG</td>\n",
       "      <td>117424</td>\n",
       "      <td>1.276214</td>\n",
       "      <td>103.791350</td>\n",
       "    </tr>\n",
       "    <tr>\n",
       "      <th>142</th>\n",
       "      <td>66973d9e6aa26544af210881</td>\n",
       "      <td>CC</td>\n",
       "      <td>27</td>\n",
       "      <td>LABRADOR PARK</td>\n",
       "      <td>109029</td>\n",
       "      <td>1.272254</td>\n",
       "      <td>103.802632</td>\n",
       "    </tr>\n",
       "    <tr>\n",
       "      <th>143</th>\n",
       "      <td>66973d9e6aa26544af210882</td>\n",
       "      <td>CC</td>\n",
       "      <td>28</td>\n",
       "      <td>TELOK BLANGAH</td>\n",
       "      <td>109028</td>\n",
       "      <td>1.270706</td>\n",
       "      <td>103.809762</td>\n",
       "    </tr>\n",
       "    <tr>\n",
       "      <th>144</th>\n",
       "      <td>66973d9e6aa26544af210883</td>\n",
       "      <td>CC</td>\n",
       "      <td>29</td>\n",
       "      <td>HARBOURFRONT</td>\n",
       "      <td>98867</td>\n",
       "      <td>1.265389</td>\n",
       "      <td>103.821530</td>\n",
       "    </tr>\n",
       "  </tbody>\n",
       "</table>\n",
       "<p>145 rows × 7 columns</p>\n",
       "</div>"
      ],
      "text/plain": [
       "                          _id code_string  code_num         BUILDING  POSTAL  \\\n",
       "0    66973d9e6aa26544af2107f3          TE         1  WOODLANDS NORTH  737668   \n",
       "1    66973d9e6aa26544af2107f4          TE         2        WOODLANDS  737736   \n",
       "2    66973d9e6aa26544af2107f5          TE         3  WOODLANDS SOUTH  737741   \n",
       "3    66973d9e6aa26544af2107f6          NS         1      JURONG EAST  609690   \n",
       "4    66973d9e6aa26544af2107f7          NS         2      BUKIT BATOK  659958   \n",
       "..                        ...         ...       ...              ...     ...   \n",
       "140  66973d9e6aa26544af21087f          CC        25    HAW PAR VILLA  117396   \n",
       "141  66973d9e6aa26544af210880          CC        26    PASIR PANJANG  117424   \n",
       "142  66973d9e6aa26544af210881          CC        27    LABRADOR PARK  109029   \n",
       "143  66973d9e6aa26544af210882          CC        28    TELOK BLANGAH  109028   \n",
       "144  66973d9e6aa26544af210883          CC        29     HARBOURFRONT   98867   \n",
       "\n",
       "     LATITUDE   LONGITUDE  \n",
       "0    1.448292  103.785693  \n",
       "1    1.436058  103.787939  \n",
       "2    1.427396  103.793264  \n",
       "3    1.333153  103.742286  \n",
       "4    1.349033  103.749566  \n",
       "..        ...         ...  \n",
       "140  1.282571  103.781753  \n",
       "141  1.276214  103.791350  \n",
       "142  1.272254  103.802632  \n",
       "143  1.270706  103.809762  \n",
       "144  1.265389  103.821530  \n",
       "\n",
       "[145 rows x 7 columns]"
      ]
     },
     "execution_count": 22,
     "metadata": {},
     "output_type": "execute_result"
    }
   ],
   "source": [
    "query_output = db_nlb['mrt_location'].find({}, {})\n",
    "documents_list = list(query_output)\n",
    "pd.DataFrame(documents_list)"
   ]
  },
  {
   "cell_type": "markdown",
   "id": "ecb4eac2-b280-4629-953e-71eb5cf7ab2b",
   "metadata": {},
   "source": [
    "### Query "
   ]
  },
  {
   "cell_type": "code",
   "execution_count": null,
   "id": "6b5ce5a4-e542-4706-8008-043d9ed85ee9",
   "metadata": {},
   "outputs": [],
   "source": [
    "['month', 'town', 'flat', 'block', 'street_name', 'storey_range', 'area', 'lease_left', 'price']"
   ]
  },
  {
   "cell_type": "code",
   "execution_count": 31,
   "id": "655b940a-2e8b-4f0d-bb60-e830821acdbc",
   "metadata": {
    "tags": []
   },
   "outputs": [
    {
     "data": {
      "text/html": [
       "<div>\n",
       "<style scoped>\n",
       "    .dataframe tbody tr th:only-of-type {\n",
       "        vertical-align: middle;\n",
       "    }\n",
       "\n",
       "    .dataframe tbody tr th {\n",
       "        vertical-align: top;\n",
       "    }\n",
       "\n",
       "    .dataframe thead th {\n",
       "        text-align: right;\n",
       "    }\n",
       "</style>\n",
       "<table border=\"1\" class=\"dataframe\">\n",
       "  <thead>\n",
       "    <tr style=\"text-align: right;\">\n",
       "      <th></th>\n",
       "      <th>month</th>\n",
       "      <th>town</th>\n",
       "      <th>flat</th>\n",
       "      <th>block</th>\n",
       "      <th>street_name</th>\n",
       "      <th>storey_range</th>\n",
       "      <th>area</th>\n",
       "      <th>lease_left</th>\n",
       "      <th>price</th>\n",
       "    </tr>\n",
       "  </thead>\n",
       "  <tbody>\n",
       "    <tr>\n",
       "      <th>0</th>\n",
       "      <td>2020-01</td>\n",
       "      <td>ANG MO KIO</td>\n",
       "      <td>3R</td>\n",
       "      <td>208</td>\n",
       "      <td>ANG MO KIO AVE 1</td>\n",
       "      <td>04-06</td>\n",
       "      <td>73.0</td>\n",
       "      <td>55y 07m</td>\n",
       "      <td>265000</td>\n",
       "    </tr>\n",
       "    <tr>\n",
       "      <th>1</th>\n",
       "      <td>2020-01</td>\n",
       "      <td>ANG MO KIO</td>\n",
       "      <td>3R</td>\n",
       "      <td>307C</td>\n",
       "      <td>ANG MO KIO AVE 1</td>\n",
       "      <td>19-21</td>\n",
       "      <td>70.0</td>\n",
       "      <td>91y 08m</td>\n",
       "      <td>470000</td>\n",
       "    </tr>\n",
       "    <tr>\n",
       "      <th>2</th>\n",
       "      <td>2020-01</td>\n",
       "      <td>ANG MO KIO</td>\n",
       "      <td>3R</td>\n",
       "      <td>319</td>\n",
       "      <td>ANG MO KIO AVE 1</td>\n",
       "      <td>01-03</td>\n",
       "      <td>73.0</td>\n",
       "      <td>56y 04m</td>\n",
       "      <td>230000</td>\n",
       "    </tr>\n",
       "    <tr>\n",
       "      <th>3</th>\n",
       "      <td>2020-01</td>\n",
       "      <td>ANG MO KIO</td>\n",
       "      <td>3R</td>\n",
       "      <td>216</td>\n",
       "      <td>ANG MO KIO AVE 1</td>\n",
       "      <td>04-06</td>\n",
       "      <td>73.0</td>\n",
       "      <td>55y 03m</td>\n",
       "      <td>280000</td>\n",
       "    </tr>\n",
       "    <tr>\n",
       "      <th>4</th>\n",
       "      <td>2020-01</td>\n",
       "      <td>ANG MO KIO</td>\n",
       "      <td>3R</td>\n",
       "      <td>556</td>\n",
       "      <td>ANG MO KIO AVE 10</td>\n",
       "      <td>07-09</td>\n",
       "      <td>68.0</td>\n",
       "      <td>59y 01m</td>\n",
       "      <td>220000</td>\n",
       "    </tr>\n",
       "  </tbody>\n",
       "</table>\n",
       "</div>"
      ],
      "text/plain": [
       "     month        town flat block        street_name storey_range  area  \\\n",
       "0  2020-01  ANG MO KIO   3R   208   ANG MO KIO AVE 1        04-06  73.0   \n",
       "1  2020-01  ANG MO KIO   3R  307C   ANG MO KIO AVE 1        19-21  70.0   \n",
       "2  2020-01  ANG MO KIO   3R   319   ANG MO KIO AVE 1        01-03  73.0   \n",
       "3  2020-01  ANG MO KIO   3R   216   ANG MO KIO AVE 1        04-06  73.0   \n",
       "4  2020-01  ANG MO KIO   3R   556  ANG MO KIO AVE 10        07-09  68.0   \n",
       "\n",
       "  lease_left   price  \n",
       "0    55y 07m  265000  \n",
       "1    91y 08m  470000  \n",
       "2    56y 04m  230000  \n",
       "3    55y 03m  280000  \n",
       "4    59y 01m  220000  "
      ]
     },
     "execution_count": 31,
     "metadata": {},
     "output_type": "execute_result"
    }
   ],
   "source": [
    "query_output = db_nlb['hdb_dump'].find({ \n",
    "        \"town\": { \"$exists\": True },\n",
    "        \"month\": { \"$exists\": True },\n",
    "        \"flat\": { \"$exists\": True },\n",
    "        \"block\": { \"$exists\": True },\n",
    "        \"street_name\": { \"$exists\": True },\n",
    "        \"storey_range\": { \"$exists\": True },\n",
    "        \"area\": { \"$exists\": True },\n",
    "        \"lease_left\": { \"$exists\": True },\n",
    "        \"price\": { \"$exists\": True },\n",
    "        \"month\": { \"$exists\": True },\n",
    "    }, {\n",
    "        \"_id\": 0,\n",
    "        \"town\": 1,\n",
    "        \"month\": 1,\n",
    "        \"flat\": 1,\n",
    "        \"block\": 1,\n",
    "        \"street_name\": 1,\n",
    "        \"storey_range\": 1,\n",
    "        \"area\": 1,\n",
    "        \"lease_left\": 1,\n",
    "        \"price\": 1,\n",
    "        \"month\": 1,\n",
    "    }).limit(10)\n",
    "documents_list = list(query_output)\n",
    "df = pd.DataFrame(documents_list).head()\n",
    "df"
   ]
  },
  {
   "cell_type": "code",
   "execution_count": 33,
   "id": "4a26ebe4-1fe0-4735-9fd2-2fc6c1a07dc0",
   "metadata": {
    "tags": []
   },
   "outputs": [
    {
     "data": {
      "text/plain": [
       "'/Users/cliff/main/sides/hdb_dash'"
      ]
     },
     "execution_count": 33,
     "metadata": {},
     "output_type": "execute_result"
    }
   ],
   "source": [
    "os.getcwd()"
   ]
  },
  {
   "cell_type": "code",
   "execution_count": 35,
   "id": "73153c0f-0bad-4e5b-a561-cb45dc5dcb89",
   "metadata": {
    "tags": []
   },
   "outputs": [],
   "source": [
    "latest_df.to_csv(\"local_df.csv\", index=False)"
   ]
  }
 ],
 "metadata": {
  "kernelspec": {
   "display_name": "Python 3 (ipykernel)",
   "language": "python",
   "name": "python3"
  },
  "language_info": {
   "codemirror_mode": {
    "name": "ipython",
    "version": 3
   },
   "file_extension": ".py",
   "mimetype": "text/x-python",
   "name": "python",
   "nbconvert_exporter": "python",
   "pygments_lexer": "ipython3",
   "version": "3.9.10"
  }
 },
 "nbformat": 4,
 "nbformat_minor": 5
}
